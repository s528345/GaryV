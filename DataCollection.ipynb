{
 "cells": [
  {
   "cell_type": "markdown",
   "id": "certified-commonwealth",
   "metadata": {},
   "source": [
    "# Gary Vaynerchuck\n",
    "\n",
    "## Data Manipulation\n",
    "\n",
    " - First, I am manipulation data to show scores of how Gary tweets, by Sentimental Analysis. This is showing scroes ranging from -1(Angry/Negative) to 1(Happy/Positive).\n",
    "     - Are they happy tweets?\n",
    "     - Are they sad tweets?\n",
    "     - Are they angry tweets?\n",
    "     - Are they neutral based feeling tweets\n",
    " - Next, I am going to show Lexical Diversity, which is his use of small words, big words, medium sized words.\n",
    "     - Does he have a broad range of vocabulary\n",
    "     - Does he use most big words? small words? somewhere in the middle?\n",
    " - Then, I am going to show his Word Count, Most used Words, Least Used Words, etc...\n",
    "     - Does he use the same words over and over again?\n",
    "     - Does he have a favorite word he likes to use?"
   ]
  },
  {
   "cell_type": "code",
   "execution_count": 61,
   "id": "developed-night",
   "metadata": {},
   "outputs": [],
   "source": [
    "import tweepy\n",
    "from twitter_keys import API_KEY, API_SECRET, ACCESS_TOKEN, ACCESS_SECRET\n",
    "def getTweepyAPI():\n",
    "    auth = tweepy.OAuthHandler(API_KEY, API_SECRET)\n",
    "    auth.set_access_token(ACCESS_TOKEN, ACCESS_SECRET)\n",
    "    return tweepy.API(auth)\n",
    "\n",
    "def getTweets(api, username, n):\n",
    "    return api.user_timeline(username, count = n, tweet_mode='extended')"
   ]
  },
  {
   "cell_type": "code",
   "execution_count": 62,
   "id": "suitable-diving",
   "metadata": {},
   "outputs": [],
   "source": [
    "import tweepy, pickle, json\n",
    "\n",
    "api = getTweepyAPI()\n",
    "\n",
    "garyTweets = getTweets(api, \"garyvee\", 1000)\n",
    "\n",
    "with open('gary-2021.pkl', 'wb') as file:\n",
    "    pickle.dump(getTweets, file)"
   ]
  },
  {
   "cell_type": "code",
   "execution_count": 57,
   "id": "neutral-redhead",
   "metadata": {},
   "outputs": [],
   "source": [
    "# import pickle\n",
    "\n",
    "# with open('gary-2021.pkl', 'rb') as file:\n",
    "#     garyTweets = pickle.load(file)"
   ]
  },
  {
   "cell_type": "code",
   "execution_count": 63,
   "id": "assigned-society",
   "metadata": {},
   "outputs": [
    {
     "name": "stdout",
     "output_type": "stream",
     "text": [
      "[{'neg': 0.0, 'neu': 0.449, 'pos': 0.551, 'compound': 0.5994}, {'neg': 0.0, 'neu': 0.616, 'pos': 0.384, 'compound': 0.9349}, {'neg': 0.161, 'neu': 0.717, 'pos': 0.121, 'compound': 0.0258}, {'neg': 0.281, 'neu': 0.351, 'pos': 0.368, 'compound': 0.128}, {'neg': 0.0, 'neu': 0.707, 'pos': 0.293, 'compound': 0.4404}, {'neg': 0.0, 'neu': 1.0, 'pos': 0.0, 'compound': 0.0}, {'neg': 0.0, 'neu': 0.76, 'pos': 0.24, 'compound': 0.8434}, {'neg': 0.149, 'neu': 0.648, 'pos': 0.203, 'compound': 0.5994}, {'neg': 0.0, 'neu': 0.641, 'pos': 0.359, 'compound': 0.4215}, {'neg': 0.11, 'neu': 0.776, 'pos': 0.114, 'compound': 0.0243}, {'neg': 0.0, 'neu': 1.0, 'pos': 0.0, 'compound': 0.0}, {'neg': 0.115, 'neu': 0.765, 'pos': 0.12, 'compound': 0.0243}, {'neg': 0.0, 'neu': 1.0, 'pos': 0.0, 'compound': 0.0}, {'neg': 0.0, 'neu': 0.527, 'pos': 0.473, 'compound': 0.5562}, {'neg': 0.0, 'neu': 0.593, 'pos': 0.407, 'compound': 0.5859}, {'neg': 0.0, 'neu': 1.0, 'pos': 0.0, 'compound': 0.0}, {'neg': 0.0, 'neu': 0.385, 'pos': 0.615, 'compound': 0.4927}, {'neg': 0.0, 'neu': 1.0, 'pos': 0.0, 'compound': 0.0}, {'neg': 0.0, 'neu': 1.0, 'pos': 0.0, 'compound': 0.0}, {'neg': 0.0, 'neu': 1.0, 'pos': 0.0, 'compound': 0.0}, {'neg': 0.0, 'neu': 0.588, 'pos': 0.412, 'compound': 0.743}, {'neg': 0.0, 'neu': 1.0, 'pos': 0.0, 'compound': 0.0}, {'neg': 0.0, 'neu': 1.0, 'pos': 0.0, 'compound': 0.0}, {'neg': 0.0, 'neu': 0.738, 'pos': 0.262, 'compound': 0.5994}, {'neg': 0.385, 'neu': 0.367, 'pos': 0.248, 'compound': -0.128}, {'neg': 0.091, 'neu': 0.675, 'pos': 0.233, 'compound': 0.705}, {'neg': 0.0, 'neu': 0.444, 'pos': 0.556, 'compound': 0.3612}, {'neg': 0.0, 'neu': 1.0, 'pos': 0.0, 'compound': 0.0}, {'neg': 0.0, 'neu': 1.0, 'pos': 0.0, 'compound': 0.0}, {'neg': 0.0, 'neu': 0.787, 'pos': 0.213, 'compound': 0.5859}, {'neg': 0.0, 'neu': 1.0, 'pos': 0.0, 'compound': 0.0}, {'neg': 0.0, 'neu': 1.0, 'pos': 0.0, 'compound': 0.0}, {'neg': 0.0, 'neu': 1.0, 'pos': 0.0, 'compound': 0.0}, {'neg': 0.0, 'neu': 0.444, 'pos': 0.556, 'compound': 0.3612}, {'neg': 0.0, 'neu': 1.0, 'pos': 0.0, 'compound': 0.0}, {'neg': 0.0, 'neu': 1.0, 'pos': 0.0, 'compound': 0.0}, {'neg': 0.0, 'neu': 1.0, 'pos': 0.0, 'compound': 0.0}, {'neg': 0.0, 'neu': 0.56, 'pos': 0.44, 'compound': 0.6705}, {'neg': 0.145, 'neu': 0.855, 'pos': 0.0, 'compound': -0.296}, {'neg': 0.0, 'neu': 0.286, 'pos': 0.714, 'compound': 0.3612}, {'neg': 0.0, 'neu': 0.563, 'pos': 0.437, 'compound': 0.4767}, {'neg': 0.0, 'neu': 1.0, 'pos': 0.0, 'compound': 0.0}, {'neg': 0.0, 'neu': 0.494, 'pos': 0.506, 'compound': 0.4728}, {'neg': 0.0, 'neu': 1.0, 'pos': 0.0, 'compound': 0.0}, {'neg': 0.0, 'neu': 0.286, 'pos': 0.714, 'compound': 0.3612}, {'neg': 0.0, 'neu': 0.222, 'pos': 0.778, 'compound': 0.5423}, {'neg': 0.0, 'neu': 1.0, 'pos': 0.0, 'compound': 0.0}, {'neg': 0.0, 'neu': 0.654, 'pos': 0.346, 'compound': 0.4019}, {'neg': 0.0, 'neu': 1.0, 'pos': 0.0, 'compound': 0.0}, {'neg': 0.0, 'neu': 1.0, 'pos': 0.0, 'compound': 0.0}, {'neg': 0.0, 'neu': 1.0, 'pos': 0.0, 'compound': 0.0}, {'neg': 0.445, 'neu': 0.222, 'pos': 0.333, 'compound': -0.2516}, {'neg': 0.0, 'neu': 1.0, 'pos': 0.0, 'compound': 0.0}, {'neg': 0.0, 'neu': 0.625, 'pos': 0.375, 'compound': 0.4588}, {'neg': 0.154, 'neu': 0.647, 'pos': 0.199, 'compound': 0.2023}, {'neg': 0.0, 'neu': 0.944, 'pos': 0.056, 'compound': 0.2144}, {'neg': 0.0, 'neu': 0.645, 'pos': 0.355, 'compound': 0.296}, {'neg': 0.0, 'neu': 0.312, 'pos': 0.688, 'compound': 0.296}, {'neg': 0.0, 'neu': 0.802, 'pos': 0.198, 'compound': 0.6369}, {'neg': 0.639, 'neu': 0.361, 'pos': 0.0, 'compound': -0.6486}, {'neg': 0.231, 'neu': 0.385, 'pos': 0.385, 'compound': 0.5859}, {'neg': 0.07, 'neu': 0.713, 'pos': 0.217, 'compound': 0.8583}, {'neg': 0.043, 'neu': 0.667, 'pos': 0.29, 'compound': 0.8591}, {'neg': 0.0, 'neu': 0.912, 'pos': 0.088, 'compound': 0.4215}, {'neg': 0.091, 'neu': 0.815, 'pos': 0.094, 'compound': -0.2023}, {'neg': 0.0, 'neu': 0.294, 'pos': 0.706, 'compound': 0.802}, {'neg': 0.0, 'neu': 1.0, 'pos': 0.0, 'compound': 0.0}, {'neg': 0.0, 'neu': 1.0, 'pos': 0.0, 'compound': 0.0}, {'neg': 0.0, 'neu': 0.773, 'pos': 0.227, 'compound': 0.875}, {'neg': 0.0, 'neu': 1.0, 'pos': 0.0, 'compound': 0.0}, {'neg': 0.0, 'neu': 0.825, 'pos': 0.175, 'compound': 0.8674}, {'neg': 0.0, 'neu': 1.0, 'pos': 0.0, 'compound': 0.0}, {'neg': 0.0, 'neu': 0.469, 'pos': 0.531, 'compound': 0.5256}, {'neg': 0.0, 'neu': 1.0, 'pos': 0.0, 'compound': 0.0}, {'neg': 0.05, 'neu': 0.893, 'pos': 0.057, 'compound': 0.0644}, {'neg': 0.125, 'neu': 0.875, 'pos': 0.0, 'compound': -0.6124}, {'neg': 0.0, 'neu': 1.0, 'pos': 0.0, 'compound': 0.0}, {'neg': 0.0, 'neu': 1.0, 'pos': 0.0, 'compound': 0.0}, {'neg': 0.207, 'neu': 0.537, 'pos': 0.257, 'compound': 0.3818}, {'neg': 0.0, 'neu': 0.913, 'pos': 0.087, 'compound': 0.3182}, {'neg': 0.0, 'neu': 1.0, 'pos': 0.0, 'compound': 0.0}, {'neg': 0.0, 'neu': 0.533, 'pos': 0.467, 'compound': 0.7906}, {'neg': 0.0, 'neu': 1.0, 'pos': 0.0, 'compound': 0.0}, {'neg': 0.123, 'neu': 0.571, 'pos': 0.307, 'compound': 0.4915}, {'neg': 0.0, 'neu': 1.0, 'pos': 0.0, 'compound': 0.0}, {'neg': 0.0, 'neu': 0.804, 'pos': 0.196, 'compound': 0.296}, {'neg': 0.483, 'neu': 0.517, 'pos': 0.0, 'compound': -0.4215}, {'neg': 0.0, 'neu': 1.0, 'pos': 0.0, 'compound': 0.0}, {'neg': 0.0, 'neu': 1.0, 'pos': 0.0, 'compound': 0.0}, {'neg': 0.0, 'neu': 0.631, 'pos': 0.369, 'compound': 0.6877}, {'neg': 0.0, 'neu': 1.0, 'pos': 0.0, 'compound': 0.0}, {'neg': 0.0, 'neu': 1.0, 'pos': 0.0, 'compound': 0.0}, {'neg': 0.255, 'neu': 0.745, 'pos': 0.0, 'compound': -0.34}, {'neg': 0.103, 'neu': 0.711, 'pos': 0.186, 'compound': 0.3622}, {'neg': 0.0, 'neu': 0.177, 'pos': 0.823, 'compound': 0.8519}, {'neg': 0.0, 'neu': 1.0, 'pos': 0.0, 'compound': 0.0}, {'neg': 0.0, 'neu': 1.0, 'pos': 0.0, 'compound': 0.0}, {'neg': 0.0, 'neu': 1.0, 'pos': 0.0, 'compound': 0.0}, {'neg': 0.0, 'neu': 0.27, 'pos': 0.73, 'compound': 0.4019}, {'neg': 0.0, 'neu': 1.0, 'pos': 0.0, 'compound': 0.0}, {'neg': 0.0, 'neu': 1.0, 'pos': 0.0, 'compound': 0.0}, {'neg': 0.0, 'neu': 0.476, 'pos': 0.524, 'compound': 0.5106}, {'neg': 0.0, 'neu': 0.772, 'pos': 0.228, 'compound': 0.8126}, {'neg': 0.0, 'neu': 0.947, 'pos': 0.053, 'compound': 0.0572}, {'neg': 0.0, 'neu': 1.0, 'pos': 0.0, 'compound': 0.0}, {'neg': 0.0, 'neu': 1.0, 'pos': 0.0, 'compound': 0.0}, {'neg': 0.101, 'neu': 0.529, 'pos': 0.37, 'compound': 0.6801}, {'neg': 0.0, 'neu': 0.73, 'pos': 0.27, 'compound': 0.743}, {'neg': 0.0, 'neu': 1.0, 'pos': 0.0, 'compound': 0.0}, {'neg': 0.0, 'neu': 1.0, 'pos': 0.0, 'compound': 0.0}, {'neg': 0.199, 'neu': 0.683, 'pos': 0.118, 'compound': -0.5994}, {'neg': 0.0, 'neu': 1.0, 'pos': 0.0, 'compound': 0.0}, {'neg': 0.0, 'neu': 0.476, 'pos': 0.524, 'compound': 0.5106}, {'neg': 0.0, 'neu': 1.0, 'pos': 0.0, 'compound': 0.0}, {'neg': 0.0, 'neu': 1.0, 'pos': 0.0, 'compound': 0.0}, {'neg': 0.0, 'neu': 1.0, 'pos': 0.0, 'compound': 0.0}, {'neg': 0.0, 'neu': 1.0, 'pos': 0.0, 'compound': 0.0}, {'neg': 0.0, 'neu': 0.263, 'pos': 0.737, 'compound': 0.4215}, {'neg': 0.0, 'neu': 0.758, 'pos': 0.242, 'compound': 0.3724}, {'neg': 0.0, 'neu': 1.0, 'pos': 0.0, 'compound': 0.0}, {'neg': 0.063, 'neu': 0.902, 'pos': 0.036, 'compound': -0.25}, {'neg': 0.0, 'neu': 1.0, 'pos': 0.0, 'compound': 0.0}, {'neg': 0.0, 'neu': 1.0, 'pos': 0.0, 'compound': 0.0}, {'neg': 0.0, 'neu': 0.192, 'pos': 0.808, 'compound': 0.6369}, {'neg': 0.0, 'neu': 1.0, 'pos': 0.0, 'compound': 0.0}, {'neg': 0.0, 'neu': 0.675, 'pos': 0.325, 'compound': 0.5165}, {'neg': 0.367, 'neu': 0.633, 'pos': 0.0, 'compound': -0.188}, {'neg': 0.0, 'neu': 1.0, 'pos': 0.0, 'compound': 0.0}, {'neg': 0.0, 'neu': 0.484, 'pos': 0.516, 'compound': 0.4939}, {'neg': 0.132, 'neu': 0.868, 'pos': 0.0, 'compound': -0.4404}, {'neg': 0.162, 'neu': 0.838, 'pos': 0.0, 'compound': -0.4767}, {'neg': 0.0, 'neu': 0.877, 'pos': 0.123, 'compound': 0.4497}, {'neg': 0.0, 'neu': 0.566, 'pos': 0.434, 'compound': 0.3182}, {'neg': 0.0, 'neu': 0.286, 'pos': 0.714, 'compound': 0.3612}, {'neg': 0.0, 'neu': 0.543, 'pos': 0.457, 'compound': 0.4951}, {'neg': 0.0, 'neu': 0.714, 'pos': 0.286, 'compound': 0.4939}, {'neg': 0.0, 'neu': 1.0, 'pos': 0.0, 'compound': 0.0}, {'neg': 0.0, 'neu': 0.741, 'pos': 0.259, 'compound': 0.2732}, {'neg': 0.0, 'neu': 1.0, 'pos': 0.0, 'compound': 0.0}, {'neg': 0.0, 'neu': 1.0, 'pos': 0.0, 'compound': 0.0}, {'neg': 0.0, 'neu': 0.417, 'pos': 0.583, 'compound': 0.4199}, {'neg': 0.0, 'neu': 1.0, 'pos': 0.0, 'compound': 0.0}, {'neg': 0.0, 'neu': 0.667, 'pos': 0.333, 'compound': 0.25}, {'neg': 0.0, 'neu': 1.0, 'pos': 0.0, 'compound': 0.0}, {'neg': 0.0, 'neu': 1.0, 'pos': 0.0, 'compound': 0.0}, {'neg': 0.0, 'neu': 1.0, 'pos': 0.0, 'compound': 0.0}, {'neg': 0.0, 'neu': 0.523, 'pos': 0.477, 'compound': 0.8074}, {'neg': 0.0, 'neu': 1.0, 'pos': 0.0, 'compound': 0.0}, {'neg': 0.0, 'neu': 0.149, 'pos': 0.851, 'compound': 0.6908}, {'neg': 0.0, 'neu': 1.0, 'pos': 0.0, 'compound': 0.0}, {'neg': 0.0, 'neu': 0.345, 'pos': 0.655, 'compound': 0.5859}, {'neg': 0.0, 'neu': 1.0, 'pos': 0.0, 'compound': 0.0}, {'neg': 0.0, 'neu': 0.444, 'pos': 0.556, 'compound': 0.3612}, {'neg': 0.0, 'neu': 0.847, 'pos': 0.153, 'compound': 0.4404}, {'neg': 0.0, 'neu': 0.813, 'pos': 0.187, 'compound': 0.3182}, {'neg': 0.0, 'neu': 0.722, 'pos': 0.278, 'compound': 0.4019}, {'neg': 0.0, 'neu': 1.0, 'pos': 0.0, 'compound': 0.0}, {'neg': 0.0, 'neu': 0.752, 'pos': 0.248, 'compound': 0.5106}, {'neg': 0.095, 'neu': 0.905, 'pos': 0.0, 'compound': -0.2263}, {'neg': 0.0, 'neu': 0.641, 'pos': 0.359, 'compound': 0.4215}, {'neg': 0.0, 'neu': 1.0, 'pos': 0.0, 'compound': 0.0}, {'neg': 0.347, 'neu': 0.525, 'pos': 0.128, 'compound': -0.7171}, {'neg': 0.0, 'neu': 0.516, 'pos': 0.484, 'compound': 0.5789}, {'neg': 0.0, 'neu': 0.286, 'pos': 0.714, 'compound': 0.3612}, {'neg': 0.41, 'neu': 0.19, 'pos': 0.4, 'compound': -0.0258}, {'neg': 0.0, 'neu': 1.0, 'pos': 0.0, 'compound': 0.0}, {'neg': 0.0, 'neu': 0.646, 'pos': 0.354, 'compound': 0.6588}, {'neg': 0.0, 'neu': 1.0, 'pos': 0.0, 'compound': 0.0}, {'neg': 0.0, 'neu': 0.846, 'pos': 0.154, 'compound': 0.7096}, {'neg': 0.0, 'neu': 0.806, 'pos': 0.194, 'compound': 0.6249}, {'neg': 0.0, 'neu': 1.0, 'pos': 0.0, 'compound': 0.0}, {'neg': 0.0, 'neu': 1.0, 'pos': 0.0, 'compound': 0.0}, {'neg': 0.0, 'neu': 1.0, 'pos': 0.0, 'compound': 0.0}, {'neg': 0.0, 'neu': 1.0, 'pos': 0.0, 'compound': 0.0}, {'neg': 0.0, 'neu': 0.444, 'pos': 0.556, 'compound': 0.3612}, {'neg': 0.0, 'neu': 1.0, 'pos': 0.0, 'compound': 0.0}, {'neg': 0.0, 'neu': 0.417, 'pos': 0.583, 'compound': 0.6369}, {'neg': 0.0, 'neu': 0.231, 'pos': 0.769, 'compound': 0.516}, {'neg': 0.0, 'neu': 1.0, 'pos': 0.0, 'compound': 0.0}, {'neg': 0.0, 'neu': 0.563, 'pos': 0.437, 'compound': 0.4767}, {'neg': 0.0, 'neu': 1.0, 'pos': 0.0, 'compound': 0.0}, {'neg': 0.0, 'neu': 0.723, 'pos': 0.277, 'compound': 0.3182}, {'neg': 0.196, 'neu': 0.804, 'pos': 0.0, 'compound': -0.296}, {'neg': 0.0, 'neu': 1.0, 'pos': 0.0, 'compound': 0.0}, {'neg': 0.0, 'neu': 0.435, 'pos': 0.565, 'compound': 0.3818}, {'neg': 0.0, 'neu': 1.0, 'pos': 0.0, 'compound': 0.0}, {'neg': 0.0, 'neu': 0.467, 'pos': 0.533, 'compound': 0.6908}, {'neg': 0.0, 'neu': 0.145, 'pos': 0.855, 'compound': 0.7096}, {'neg': 0.0, 'neu': 1.0, 'pos': 0.0, 'compound': 0.0}, {'neg': 0.0, 'neu': 0.303, 'pos': 0.697, 'compound': 0.3182}, {'neg': 0.0, 'neu': 0.286, 'pos': 0.714, 'compound': 0.3612}, {'neg': 0.0, 'neu': 0.412, 'pos': 0.588, 'compound': 0.431}, {'neg': 0.0, 'neu': 1.0, 'pos': 0.0, 'compound': 0.0}, {'neg': 0.0, 'neu': 0.538, 'pos': 0.462, 'compound': 0.8979}, {'neg': 0.0, 'neu': 1.0, 'pos': 0.0, 'compound': 0.0}, {'neg': 0.0, 'neu': 1.0, 'pos': 0.0, 'compound': 0.0}, {'neg': 0.055, 'neu': 0.681, 'pos': 0.264, 'compound': 0.5994}, {'neg': 0.175, 'neu': 0.601, 'pos': 0.224, 'compound': 0.2449}, {'neg': 0.0, 'neu': 0.4, 'pos': 0.6, 'compound': 0.4588}, {'neg': 0.0, 'neu': 1.0, 'pos': 0.0, 'compound': 0.0}]\n"
     ]
    }
   ],
   "source": [
    "from nltk.sentiment.vader import SentimentIntensityAnalyzer\n",
    "\n",
    "# Analyzing Gary tweets to see the range(-1, 1)\n",
    "# Range (-1(Negative/Angry) to 1(Positive/Happy))\n",
    "\n",
    "analyzer = SentimentIntensityAnalyzer()\n",
    "\n",
    "# Putting the polarity scores in a list\n",
    "gary_sents = []\n",
    "for tweet in garyTweets:\n",
    "    gary_sents.append(analyzer.polarity_scores(tweet.full_text))\n",
    "    \n",
    "print(gary_sents)"
   ]
  },
  {
   "cell_type": "code",
   "execution_count": 64,
   "id": "revised-missile",
   "metadata": {},
   "outputs": [
    {
     "name": "stdout",
     "output_type": "stream",
     "text": [
      "[1.0, 0.9117647058823529, 0.9523809523809523, 1.0, 1.0, 0.8571428571428571, 0.8888888888888888, 0.7666666666666667, 1.0, 1.0, 1.0, 1.0, 1.0, 1.0, 0.9090909090909091, 1.0, 1.0, 1.0, 1.0, 1.0, 1.0, 1.0, 1.0, 1.0, 1.0, 0.9333333333333333, 1.0, 0.8333333333333334, 1.0, 0.9411764705882353, 1.0, 1.0, 1.0, 1.0, 1.0, 1.0, 1.0, 1.0, 1.0, 1.0, 1.0, 1.0, 1.0, 1.0, 1.0, 1.0, 1.0, 1.0, 1.0, 1.0, 1.0, 1.0, 1.0, 1.0, 0.8, 0.8, 1.0, 1.0, 0.9473684210526315, 1.0, 1.0, 0.8, 0.8214285714285714, 0.9705882352941176, 0.8113207547169812, 1.0, 1.0, 1.0, 0.813953488372093, 1.0, 0.7222222222222222, 1.0, 1.0, 1.0, 0.8108108108108109, 0.7333333333333333, 1.0, 1.0, 0.8536585365853658, 0.9230769230769231, 1.0, 1.0, 1.0, 0.9444444444444444, 1.0, 0.9166666666666666, 1.0, 1.0, 1.0, 0.6, 1.0, 1.0, 1.0, 1.0, 0.6, 1.0, 1.0, 1.0, 1.0, 1.0, 1.0, 1.0, 0.8214285714285714, 0.8846153846153846, 1.0, 1.0, 1.0, 1.0, 1.0, 0.9285714285714286, 0.7631578947368421, 1.0, 1.0, 1.0, 1.0, 1.0, 1.0, 1.0, 0.9, 1.0, 0.775, 1.0, 1.0, 1.0, 1.0, 1.0, 1.0, 1.0, 1.0, 0.9090909090909091, 1.0, 0.9130434782608695, 1.0, 1.0, 1.0, 0.8888888888888888, 1.0, 1.0, 1.0, 1.0, 1.0, 1.0, 1.0, 1.0, 1.0, 0.7142857142857143, 0.9230769230769231, 1.0, 1.0, 1.0, 1.0, 1.0, 1.0, 0.8888888888888888, 1.0, 1.0, 1.0, 1.0, 0.8571428571428571, 1.0, 1.0, 1.0, 1.0, 1.0, 1.0, 1.0, 1.0, 1.0, 0.896551724137931, 1.0, 1.0, 1.0, 1.0, 1.0, 1.0, 1.0, 1.0, 1.0, 1.0, 1.0, 1.0, 1.0, 1.0, 1.0, 1.0, 0.875, 1.0, 1.0, 1.0, 1.0, 1.0, 1.0, 1.0, 0.9130434782608695, 1.0, 1.0, 0.9130434782608695, 0.9285714285714286, 1.0, 1.0]\n",
      "Gary Vaynerchuck: \n",
      "Lexical Diversity: 0.45697030699547053\n"
     ]
    }
   ],
   "source": [
    "# Getting the lexical diversity of Gary Tweets\n",
    "\n",
    "# Measurement of how many different lexical words there are in a text\n",
    "# Lexical words are words such as nouns, adjectives, verbs, and adverbs \n",
    "# that convey meaning in a text\n",
    "\n",
    "def lexical_diversity(text):\n",
    "    token = text.lower().split()\n",
    "    return len(set(token))/len(token)\n",
    "\n",
    "garyDiversity = [lexical_diversity(x.full_text) for x in garyTweets]\n",
    "print(garyDiversity)\n",
    "\n",
    "gary_Total_Diversity = []\n",
    "for tweet in garyTweets:\n",
    "    gary_Total_Diversity.append(tweet.full_text)\n",
    "totalGaryTweets = ' '.join(gary_Total_Diversity)\n",
    "print(\"Gary Vaynerchuck: \\nLexical Diversity:\", lexical_diversity(totalGaryTweets))"
   ]
  },
  {
   "cell_type": "code",
   "execution_count": 66,
   "id": "african-relation",
   "metadata": {},
   "outputs": [
    {
     "name": "stdout",
     "output_type": "stream",
     "text": [
      "Counter({'i': 67, '..': 49, 'and': 35, '...': 33, 'the': 33, 'my': 31, 'to': 30, 'u': 30, 'a': 30, 'it': 26, 'of': 23, 'this': 21, 'for': 17, 'you': 17, 'was': 16, 'is': 16, 'so': 16, 'that': 14, 'have': 14, 'me': 13, '@jayyy50': 13, 'in': 12, 'on': 12, 'but': 12, 'your': 12, 'i’m': 11, 'always': 11, 'think': 10, 'friend': 10, 'about': 9, 'be': 8, 'love': 8, 'just': 8, 'if': 8, 'well': 7, 'life': 7, 'when': 7, 'much': 7, 'you’re': 7, 'rt': 7, 'not': 7, 'good': 7, 'now': 7, 'no': 7, 'thank': 7, 'know': 7, 'brother': 7, 'everyone': 7, 'that’s': 7, 'do': 6, 'sorry': 6, 'don’t': 6, 'see': 6, 'would': 6, 'been': 6, 'it’s': 5, '-': 5, 'who': 5, 'are': 5, 'will': 5, 'like': 5, 'what': 5, 'wishing': 5, 'need': 5, 'respect': 5, 'lot': 5, 'from': 5, 'i’ve': 5, 'things': 4, 'appreciate': 4, 'more': 4, 'time': 4, 'drawing': 4, 'guy': 4, '@teamgaryvee:': 4, 'feel': 4, 'available': 4, 'apologize': 4, 'going': 4, 'never': 4, 'live': 4, 'here': 4, 'has': 4, 'google': 4, 'get': 4, 'parents': 4, '@vaynermedia': 4, 'there': 4, 'one': 4, 'all': 4, 'had': 4, 'business': 4, '?': 4, 'family': 4, 'how': 4, 'proud': 4, 'make': 4, '@tyschmitt5': 4, 'great': 4, '@bobbyhundreds': 4, 'doing': 4, ':)': 3, 'almost': 3, 'such': 3, 'anyone': 3, 'isn’t': 3, 'too': 3, 'talent': 3, 'am': 3, '❤️': 3, 'at': 3, 'thx': 3, 'ok': 3, 'over': 3, 'little': 3, '@eclecticmethod': 3, 'pov': 3, '@newhumanspro': 3, 'hope': 3, 'really': 3, 'made': 3, '14': 3, 'i’ll': 3, 'people': 3, 'yup': 3, 'back': 3, 'soon': 3, 'an': 3, 'something': 3, 'fun': 3, '@bolzenbrian': 3, 'said': 3, 'fear': 3, '@tedspace_': 3, 'as': 3, '@the_freightrain': 2, '@punk4156': 2, 'humans': 2, 'aren’t': 2, 'convincing': 2, 'others': 2, 'creating': 2, 'enjoying': 2, 'myself': 2, 'joy': 2, 'words': 2, 'enough\"': 2, '--': 2, '@spotifypodcasts': 2, 'https://t.co/lc6uvrmv5m': 2, '@applepodcasts': 2, 'https://t.co/u0xll5eyak': 2, 'work': 2, 'week': 2, 'health': 2, 'happiness': 2, 'still': 2, '@iamdoechii_': 2, '@jwrichte09': 2, 'offense': 2, 'ever': 2, 'want': 2, 'better': 2, 'than': 2, 'sleep': 2, '😂': 2, 'whatchya': 2, '....': 2, 'means': 2, 'fucker': 2, '@kartadam3': 2, 'sad': 2, 'saying': 2, 'zero': 2, 'intuition': 2, 'because': 2, 'went': 2, 'into': 2, 'her': 2, 'selling': 2, 'baseball': 2, 'cards': 2, 'did': 2, 'lemonade': 2, 'money,': 2, 'making': 2, 'help': 2, 'knew': 2, 'worked': 2, 'since': 2, 'them': 2, 'humbled': 2, 'yes': 2, 'further': 2, 'along': 2, 'years': 2, 'else': 2, '@tombilyeu': 2, 'plan': 2, 'didn’t': 2, 'story': 2, 'built': 2, 'also': 2, 'money': 2, 'telling': 2, 'interest': 2, 'j': 2, 'huge': 2, '@cody_kledzinski': 2, 'ill': 2, 'tweet': 2, 'can': 2, 'keep': 2, 'again': 2, 'im': 2, 'wait': 2, 'day': 2, '@mountaineermatt': 2, 'best': 2, 'he': 2, 'there’s': 2, 'ambitions': 2, '@jason_coleman': 2, 'ted': 2, 'consistent': 2, 'overall': 2, '@iviakeithappen': 2, ':-)': 2, '@garyvee': 2, 'we': 2, 'gonna': 2, 'right': 2, 'bad': 2, '@brsully23': 2, '@joe39492839': 1, 'you’d': 1, 'surprised': 1, 'joe': 1, 'below': 1, 'average': 1, 'everything': 1, 'helpful': 1, 'perspective': 1, 'compassion': 1, 'others,': 1, 'couple': 1, 'patience': 1, 'kindness': 1, 'oneself': 1, 'matters': 1, '@jjs0123': 1, '@lolamenthol': 1, 'wasn’t': 1, 'genuinely': 1, 'follows': 1, 'bothered': 1, 'him': 1, '@tyler_babin': 1, 'hahahahahaah': 1, 'god': 1, 'miss': 1, '@nikhilsaraf04': 1, 'funny': 1, '30-40': 1, '@sve_geo': 1, 'roulette..': 1, 'physics': 1, 'having': 1, 'conviction': 1, 'new': 1, 'happening,': 1, 'way': 1, 'many': 1, 'focus': 1, 'debate,': 1, 'news': 1, 'alert,': 1, 'history': 1, 'decide,': 1, 'spend': 1, 'less': 1, '❤️❤️❤️❤️❤️': 1, 'ect': 1, 'annoying,': 1, 'enormous': 1, '@robmarkman': 1, '@mikeboydjr': 1, '\"4': 1, 'https://t.co/31bhhiauy2': 1, '4': 1, '@jetsgnome': 1, 'thnx': 1, 'bri': 1, 'fun!': 1, 'https://t.co/xiwvlvlnxx': 1, '@propertypete2': 1, 'pete,': 1, '@wilsonchandler': 1, '@zed_run': 1, '@ajv': 1, '@begoodandwell': 1, '@koradelta': 1, 'righty': 1, 'lye': 1, 'addition': 1, 'https://t.co/nzxx1ort6i': 1, 'https://t.co/yrebi8asex': 1, 'wish': 1, 'deep': 1, 'working': 1, 'condor': 1, '🦅': 1, 'https://t.co/krgjrbtvwu': 1, 'hi': 1, 'd': 1, 'simple': 1, 'statement': 1, 'super': 1, 'duper': 1, 'star': 1, '⭐️': 1, 'taken*': 1, 'question': 1, 'soenrhing': 1, 'audience': 1, 'night': 1, '@eclectichd': 1, '@jayshettyiw': 1, '“know”': 1, 'know!': 1, 'https://t.co/bvedfuqlwb': 1, 'multiple': 1, 'language': 1, 'skills': 1, 'helped': 1, 'https://t.co/jifng5q6vu': 1, 'getting': 1, 'close': 1, 'end': 1, '“process”': 1, '🐏': 1, 'https://t.co/svoa4juhdr': 1, 'https://t.co/9kt9hnepjj': 1, '@itsjustmarknv': 1, 'puffin?': 1, '*runs': 1, '“puffin”': 1, 'https://t.co/hutu64p3al': 1, '@kaptaincollectz': 1, 'yup!': 1, 'https://t.co/dxeiljoqcf': 1, 'whoops': 1, 'https://t.co/rlcb5mxogj': 1, '@titaniusmaxamus': 1, 'metamask': 1, 'pondering': 1, 'https://t.co/3h1bef6qqa': 1, '\"the': 1, 'mindset': 1, 'avoid': 1, 'burnout\"': 1, '@jaknft': 1, 'o.g’s': 1, 'https://t.co/u1fft5t0fc': 1, '@owoanietie': 1, 'thank@u': 1, 'https://t.co/fsmuesm7ve': 1, '🐈': 1, 'https://t.co/mcsd7djr64': 1, '@garibaldiarts': 1, '@totheemoooon': 1, 'optimism': 1, 'https://t.co/hfjoo78lxo': 1, 'feeling': 1, '🧑\\u200d🚀': 1, 'https://t.co/9gefmgsk27': 1, '@nomadic4trees': 1, 'comment': 1, '🐶': 1, 'https://t.co/sfdve8dpdi': 1, '@bigc_knight': 1, 'cute': 1, '🐋': 1, 'https://t.co/iguqorezqc': 1, 'https://t.co/suujp2zl99': 1, 'epic': 1, 'gif': 1, 'man..': 1, 'affirmation': 1, 'doodling,': 1, 'take..': 1, '.': 1, 'clue': 1, 'life.': 1, 'spoke': 1, 'siblings': 1, '100%': 1, 'different': 1, 'ya': 1, 'https://t.co/ubldsm1rmh': 1, '@shrugemoji69': 1, 'mycult': 1, 'cause': 1, 'cynical': 1, 'cats': 1, 'lose': 1, 'https://t.co/kxawjt1vlo': 1, 'annoy': 1, 'brother,': 1, 'awesome': 1, 'jason': 1, 'narrative,': 1, 'is,': 1, 'haven’t': 1, 'clear': 1, 'nuances': 1, 'actual': 1, 'circumstances...': 1, 'stated': 1, '34': 1, 'free': 1, 'rent': 1, '$': 1, 'paid': 1, 'store': 1, 'luck': 1, 'mother’s': 1, 'parenting': 1, 'tough': 1, 'encouragement': 1, 'accountability': 1, 'husbands': 1, 'exploded': 1, '10’s': 1, 'thousands': 1, 'high': 1, 'school': 1, 'me,': 1, 'preview': 1, 'ethic': 1, '$2000': 1, '“had': 1, 'it”': 1, '“forced”': 1, 'immigrant': 1, 'shit,': 1, 'know?': 1, 'buy': 1, 'sell': 1, '7,': 1, 'saving': 1, 'shoveling': 1, 'snow,': 1, 'favorite': 1, 'cousin?': 1, 'give': 1, 'https://t.co/mpl8yajonn': 1, '$$$$': 1, 'worth': 1, 'it,': 1, 'gave': 1, 'impact': 1, 'finically': 1, 'memory': 1, 'ohhhhhhhhh': 1, '🤖': 1, 'https://t.co/ixnnqhtdrn': 1, 'spent': 1, '13': 1, 'prime': 1, 'salary': 1, 'exploding': 1, 'his': 1, 'questions': 1, 'context': 1, 'answer': 1, 'truth.': 1, 'every1': 1, 'agree': 1, '@2hijabz': 1, '@rockernilabh': 1, 'hahahahahah': 1, 'daddy': 1, 'platform': 1, 'changed': 1, 'daddy’s': 1, 'irey': 1, 'upset': 1, 'with': 1, 'job': 1, 'crushed': 1, '“nut”': 1, 'product': 1, 'run': 1, 'company': 1, 'called': 1, 'where': 1, 'income': 1, 'driven': 1, '🐉': 1, 'https://t.co/l2xfu7dsa9': 1, '@lavaazulada': 1, '@lamacorn20': 1, 'anything': 1, 'nobody': 1, 'sharing': 1, 'feelings': 1, 'die': 1, 'tomorrow': 1, 'moves': 1, 'on,': 1, 'confusion': 1, 'imagine': 1, 'knowing': 1, 'aj': 1, 'left': 1, 'owning': 1, 'starting': 1, 'dinosaur': 1, '🦖': 1, 'https://t.co/luu9jky1tf': 1, 'lol...': 1, 'understanding': 1, '❤️..': 1, '@sportscardex': 1, '@sgcfinests': 1, 'cody': 1, 'man': 1, 'take': 1, 'consideration': 1, 'incredibly': 1, 'whatycha': 1, 'malayan': 1, 'tapir?': 1, '*rushes': 1, 'https://t.co/elbhqlvthx': 1, 'stuff...': 1, ',...': 1, 'should': 1, '@oookylar': 1, '@logancudlip': 1, 'fixewd': 1, 'roots': 1, '🍷': 1, 'https://t.co/4fmdro1vdg': 1, '@abrahamadvocate': 1, '@og_kinger': 1, 'eye': 1, 'kid': 1, '@asnapcracklepop:': 1, 'seeing': 1, '@garyvee’s': 1, 'drawings': 1, '24/7': 1, 'start': 1, 'sketching': 1, 'sometimes': 1, 'shoot': 1, 'moon': 1, '🌝': 1, 'https://t.co/q0aee1ddoh': 1, 'drew': 1, 'of...': 1, 'cant': 1, 'share': 1, '🐈\\u200d⬛': 1, '@micah': 1, 'especially': 1, '@connorlane56': 1, 'laker': 1, 'fans': 1, 'got': 1, 'https://t.co/q6vjdudkwn': 1, '@cadcrypto': 1, 'dapper': 1, 'dressed': 1, 'browns': 1, 'blacks': 1, 'https://t.co/ucbwbaowng': 1, '@pastorfury': 1, 'https://t.co/jsiykrmtmb': 1, 'example': 1, 'references': 1, 'knows': 1, 'https://t.co/r0ih9oglmy': 1, 'brian': 1, 'genuine': 1, '...a': 1, 'side': 1, 'hasnt': 1, 'exposed': 1, '@manuelv23': 1, 'oh': 1, 'saw': 1, 'omg!!!!!': 1, 'https://t.co/ohkvfbilza': 1, 'being': 1, 'underestimated': 1, 'fucking': 1, 'gift': 1, 'fortunate': 1, 'emotional': 1, 'foundation': 1, 'thats': 1, 'whats': 1, 'amazing': 1, 'bri,': 1, '...it': 1, 'decided,': 1, 'until': 1, 'then...its': 1, 'speculation': 1, '@sportrepreneur4': 1, 'shhhhhh': 1, 'irish': 1, 'terrier': 1, '???': 1, '☘️': 1, '🐕': 1, 'https://t.co/2kvntiuckg': 1, 'taking': 1, 'steps': 1, 'backwards': 1, 'opportunity': 1, 'then': 1, '“rise”': 1, 'tastes': 1, 'even': 1, '❤️❤️❤️❤️': 1, 'judgement': 1, 'comes': 1, 'https://t.co/wsqrgizpge': 1, '@doobiedukesims': 1, 'color': 1, '🌈': 1, 'https://t.co/d9ycbk1u7v': 1, 'check': 1, 'latest': 1, 'og’s': 1, 'https://t.co/1olcl6klqu': 1, 'hmmmm': 1, '@oheybk': 1, 'hahhahahahahah': 1, '@reillyeagles': 1, 'lol': 1, 'suckering': 1, 'matt': 1, 'rare': 1, ':': 1, 'human': 1, 'https://t.co/4kn95cxgnh': 1, 'pls': 1, 'enough': 1, 'happened': 1, 'internet': 1, '1994-2000?': 1, 'lost': 1, 'stillness,': 1, 'took': 1, 'education': 1, 'places': 1, '“life”': 1, '🏀': 1, '🦋': 1, 'https://t.co/yi7fp9indq': 1, '!!!!': 1, 'https://t.co/uyo6gptowz': 1, '@svabbcollectors': 1, 'ahahahahah': 1, 'done': 1, 'enjoy': 1, 'https://t.co/chiz9p647h': 1, '@jballdaymane': 1, '****': 1, 'go': 1, '“dumbo': 1, 'octopus”': 1, 'https://t.co/g5fqmgfbbl': 1, 'name': 1, 'our': 1, 'https://t.co/yr60lkh5gr': 1, '@buiiyrey': 1, '90%': 1, 'content': 1, 'worry': 1, 'research': 1, 'https://t.co/o7vifqd5yh': 1, 'https://t.co/wtobpvkam1': 1, 'ive': 1, '97-99%': 1, 'projects': 1, 'terrible': 1, 'investments': 1, 'https://t.co/inms01sdgl': 1, 'consistently': 1, '99%': 1, '“projects': 1, 'fail”': 1, 'tech': 1, 'game': 1, 'changer': 1, '@octavanz': 1, 'kind': 1, 'https://t.co/zhbsxdn4ol': 1, 'keeps': 1, '“light”': 1, 'https://t.co/chsnmiod3l': 1, '🐆': 1, 'https://t.co/kihmykinx9': 1, 'https://t.co/xg1tndz0wd': 1, '@aarucrypto': 1, '@beeple': 1, 'hahahahah': 1, 'eager': 1, 'af!': 1, 'https://t.co/kiu71okhir': 1, 'watxhing': 1, '@rodrox_gifts': 1, 'point': 1, ';-)': 1, '5th': 1, 'beatle': 1, 'https://t.co/h2gbturqu6': 1, '🤔': 1, '🧀': 1, '🐀': 1, 'https://t.co/zz9by1oaws': 1, '@saggidysag': 1, 'mine': 1, '“be': 1, 'radical”': 1, '🥕': 1, 'https://t.co/nqu2rotpxz': 1, '🕷': 1, 'https://t.co/lpcyobde1e': 1, '@solomonrdavid': 1, '@ryandavisind': 1, '@luke360': 1, '@gazedsoul': 1, 'wow': 1, '@krainak': 1, 'moving': 1, 'https://t.co/2l8e0yw5o4': 1, '@domjacksonfit': 1, 'dom': 1, 'corner': 1, 'tag': 1, 'most': 1, 'cougar': 1, 'https://t.co/irugidk3a2': 1, '@luke360:': 1, 'caught': 1, 'gars': 1, 'before': 1, '🎣': 1, 'barracuda': 1, 'fresh': 1, 'water.': 1, 'man,': 1, '😍': 1, 'https://t.co/xwoa1qkkkq': 1, '*': 1, 'googles': 1, '“gar”': 1, 'https://t.co/qvshi0oyyr': 1, '@officialiink': 1, 'meet': 1, 'maybe': 1, 'stuff': 1, '@137pm': 1, 'call': 1, 'someone': 1, 'forget': 1, 'ghostbusters': 1, '🐛': 1, 'https://t.co/amluchasn0': 1, 'ones': 1, 'popular': 1, '🐍': 1, 'https://t.co/nwrzonx191': 1, 'observant': 1, '🦪': 1, 'https://t.co/n5cein3n0k': 1, 'what’s': 1, 'dangerous': 1, 'ape': 1, '🦍..': 1, 'alert': 1, 'fuck!': 1, 'https://t.co/ypuuc8ys5u': 1, 'needs': 1, 'https://t.co/p7ygnudkwf': 1, '@hrishio': 1, '🦜': 1, 'https://t.co/o2raoyvhf9': 1, '🇦🇺': 1, 'stand': 1, 'up': 1, 'https://t.co/cjjkggbrp0': 1, 'came': 1, 'out': 1, 'hot': 1, '!': 1, 'morning': 1, '☀️': 1, 'hit': 1, 'https://t.co/duixphswtm': 1, '@cameronsamiljan': 1, 'gotta': 1, '@f1apexoffical': 1, 'happen,': 1, 'happens': 1, 'long': 1, 'term': 1, 'technology': 1, 'remarkable': 1, 'gold': 1, 'rush': 1, 'mentality': 1, '\"how': 1, 'any': 1, 'field': 1, 'early': 1, 'adopter?\"': 1, '@dubmentality': 1, 'nightmares': 1, 'those': 1, '2': 1, '@lileikisparker': 1, '@guiprovost': 1, 'bingo': 1, '@davemckeown': 1, 'hahahaah': 1, '😉': 1, '@ofpuknowitisme': 1, '@c_holmes44': 1, 'cam': 1, 'ermine': 1, 'https://t.co/2freiahmhj': 1, 'he’s': 1, 'https://t.co/puvha6fvye': 1, '@philosophize101': 1, 'ty': 1, '@ijacorytaylor': 1, 'me!': 1, 'trait': 1, 'admire': 1, '🥚': 1, 'https://t.co/wagkktm31o': 1, '@rvstefnn:': 1, 'cows': 1, 'dope': 1, '!!': 1, 'let’s': 1, 'common': 1, 'sense': 1, 'cool': 1, '🐮': 1, 'https://t.co/sucbdiwvxn': 1, '@tc_ciderguy': 1, 'nate': 1, 'idea': 1, 'makes': 1, '@matrickzzz': 1, '🔜': 1, 'focused': 1, 'af': 1, 'https://t.co/mii99u4sxl': 1, '@metutu22': 1, 's': 1, '5': 1, '🦒': 1, 'https://t.co/1kh4wiba6t': 1, '@codyfreeberg': 1, 'hahaha': 1, 'fair': 1, '@skelebits': 1, '🦨': 1, 'https://t.co/evkk35x6lv': 1, '@doodlidood': 1, 'https://t.co/jgtthrst5k': 1, '@heydannymiranda': 1, '@iamaaronwill': 1, 'follow': 1, 'https://t.co/gvxotielj8': 1, 'care': 1, 'few': 1, 'hopefully': 1, 'earn': 1, '@pinot': 1, 'pinot': 1, 'whatya': 1, 'https://t.co/9psw9qvusj': 1, '@timweston': 1, 'pass': 1, 'nope': 1, 'sully...': 1, 'exuded': 1, 'ducks': 1, '@deadxmouth': 1, 'hahahahahaha': 1, '❣️❣️❣️❣️❣️...': 1, 'you’ll': 1, '❤️❤️❤️': 1, '@wallyworld24': 1, 'hahahaa': 1, '@cryptovuvzo': 1, 'gut': 1})\n"
     ]
    },
    {
     "data": {
      "text/plain": [
       "[('i', 67),\n",
       " ('..', 49),\n",
       " ('and', 35),\n",
       " ('...', 33),\n",
       " ('the', 33),\n",
       " ('my', 31),\n",
       " ('to', 30),\n",
       " ('u', 30),\n",
       " ('a', 30),\n",
       " ('it', 26),\n",
       " ('of', 23),\n",
       " ('this', 21),\n",
       " ('for', 17),\n",
       " ('you', 17),\n",
       " ('was', 16),\n",
       " ('is', 16),\n",
       " ('so', 16),\n",
       " ('that', 14),\n",
       " ('have', 14),\n",
       " ('me', 13),\n",
       " ('@jayyy50', 13),\n",
       " ('in', 12),\n",
       " ('on', 12),\n",
       " ('but', 12),\n",
       " ('your', 12)]"
      ]
     },
     "execution_count": 66,
     "metadata": {},
     "output_type": "execute_result"
    }
   ],
   "source": [
    "from collections import Counter\n",
    "\n",
    "# First get word count\n",
    "gary_words = totalGaryTweets.lower().split()\n",
    "gary_word_count = Counter(gary_words)\n",
    "print(gary_word_count)\n",
    "\n",
    "# Then most common\n",
    "gary_word_count.most_common(25)\n"
   ]
  },
  {
   "cell_type": "code",
   "execution_count": null,
   "id": "figured-enzyme",
   "metadata": {},
   "outputs": [],
   "source": []
  }
 ],
 "metadata": {
  "kernelspec": {
   "display_name": "Python 3",
   "language": "python",
   "name": "python3"
  },
  "language_info": {
   "codemirror_mode": {
    "name": "ipython",
    "version": 3
   },
   "file_extension": ".py",
   "mimetype": "text/x-python",
   "name": "python",
   "nbconvert_exporter": "python",
   "pygments_lexer": "ipython3",
   "version": "3.9.1"
  }
 },
 "nbformat": 4,
 "nbformat_minor": 5
}
